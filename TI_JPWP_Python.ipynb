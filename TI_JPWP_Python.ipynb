{
 "cells": [
  {
   "cell_type": "markdown",
   "metadata": {},
   "source": [
    "## 9. Co zostanie wyświetlone na ekranie dla poniższego kodu w języku Python?\n",
    "### a)None\n",
    "### b)123\n",
    "### c)654"
   ]
  },
  {
   "cell_type": "code",
   "execution_count": 3,
   "metadata": {
    "scrolled": false
   },
   "outputs": [
    {
     "name": "stdout",
     "output_type": "stream",
     "text": [
      "123\n"
     ]
    }
   ],
   "source": [
    "class Rebus(object):\n",
    "    def __init__(self, id):\n",
    "        self.id = id\n",
    "        id = 654\n",
    "        \n",
    "acc = Rebus(123)\n",
    "print acc.id"
   ]
  },
  {
   "cell_type": "markdown",
   "metadata": {},
   "source": [
    "## Kod dający jako wynik liczbę 654"
   ]
  },
  {
   "cell_type": "code",
   "execution_count": 4,
   "metadata": {},
   "outputs": [
    {
     "name": "stdout",
     "output_type": "stream",
     "text": [
      "654\n"
     ]
    }
   ],
   "source": [
    "class Rebus(object):\n",
    "    def __init__(self, id = 654):\n",
    "        self.id = id\n",
    "        \n",
    "acc = Rebus()\n",
    "print acc.id"
   ]
  },
  {
   "cell_type": "markdown",
   "metadata": {},
   "source": [
    "## 10. Co zostanie wyświetlone na ekranie dla poniższego kodu w języku Python?\n",
    "### a)o\n",
    "### b)A\n",
    "### c)Program zwróci błąd"
   ]
  },
  {
   "cell_type": "code",
   "execution_count": 5,
   "metadata": {},
   "outputs": [
    {
     "name": "stdout",
     "output_type": "stream",
     "text": [
      "o\n"
     ]
    }
   ],
   "source": [
    "names = ['Amir', 'Barry', 'Chales', 'Dao']\n",
    "print names[-1][-1]"
   ]
  },
  {
   "cell_type": "code",
   "execution_count": null,
   "metadata": {},
   "outputs": [],
   "source": []
  }
 ],
 "metadata": {
  "kernelspec": {
   "display_name": "Python 2",
   "language": "python",
   "name": "python2"
  },
  "language_info": {
   "codemirror_mode": {
    "name": "ipython",
    "version": 2
   },
   "file_extension": ".py",
   "mimetype": "text/x-python",
   "name": "python",
   "nbconvert_exporter": "python",
   "pygments_lexer": "ipython2",
   "version": "2.7.11"
  }
 },
 "nbformat": 4,
 "nbformat_minor": 2
}
